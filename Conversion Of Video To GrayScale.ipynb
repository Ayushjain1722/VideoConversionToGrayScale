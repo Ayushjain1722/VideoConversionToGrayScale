{
 "cells": [
  {
   "cell_type": "markdown",
   "metadata": {},
   "source": [
    "### Importing all the important libraries"
   ]
  },
  {
   "cell_type": "code",
   "execution_count": 1,
   "metadata": {},
   "outputs": [],
   "source": [
    "import cv2\n",
    "import os\n",
    "import sys"
   ]
  },
  {
   "cell_type": "markdown",
   "metadata": {},
   "source": [
    "### Exception Checking"
   ]
  },
  {
   "cell_type": "code",
   "execution_count": 3,
   "metadata": {},
   "outputs": [],
   "source": [
    "def check_exceptions(args):\n",
    "    try:\n",
    "        if len(args)!=2:\n",
    "            raise e1\n",
    "    except:\n",
    "        print(\"Not the right number of arguements!!\")\n",
    "        sys.exit()\n",
    "    #File Not Found Check\n",
    "    try:\n",
    "        if not os.path.exists(args[0]):\n",
    "            raise e2\n",
    "    except:\n",
    "        print('File doesnt exist!!')\n",
    "        sys.exit()\n",
    "    #File Extension Check\n",
    "    try:\n",
    "        if (not args[0].endswith('.mp4')) and (not args[0].endswith('.avi')):\n",
    "            raise e3\n",
    "    except:\n",
    "        print(\"Not a supported file format!!\")\n",
    "        sys.exit()"
   ]
  },
  {
   "cell_type": "markdown",
   "metadata": {},
   "source": [
    "### Main Conversion Function"
   ]
  },
  {
   "cell_type": "code",
   "execution_count": 18,
   "metadata": {},
   "outputs": [],
   "source": [
    "def convert(args):\n",
    "    check_exceptions(args)\n",
    "    vidObj = cv2.VideoCapture(args[0])\n",
    "    #fourcc = cv2.VideoWriter_fourcc(*'mp4v') Keep -1 so that every file format is supported\n",
    "    \n",
    "    fps = int(vidObj.get(5))\n",
    "    w = int(vidObj.get(3))\n",
    "    h = int(vidObj.get(4))\n",
    "    \n",
    "    size = (w,h)\n",
    "    out = cv2.VideoWriter('video_output.mp4',-1, fps, size)\n",
    "    thresh = 128\n",
    "    \n",
    "    while(vidObj.isOpened()):\n",
    "        ret,frame = vidObj.read()\n",
    "        if ret==True:\n",
    "            img_grey = cv2.cvtColor(frame, cv2.COLOR_BGR2GRAY)\n",
    "            img_binary = cv2.threshold(img_grey,thresh,255,cv2.THRESH_BINARY)[1]\n",
    "            out.write(img_binary)\n",
    "        else:\n",
    "            break\n",
    "\n",
    "    vidObj.release()\n",
    "    out.release()\n",
    "    cv2.destroyAllWindows()\n",
    "    print(\"Done\")"
   ]
  },
  {
   "cell_type": "markdown",
   "metadata": {},
   "source": [
    "### Using The Function"
   ]
  },
  {
   "cell_type": "code",
   "execution_count": 20,
   "metadata": {},
   "outputs": [
    {
     "name": "stdout",
     "output_type": "stream",
     "text": [
      "Done\n"
     ]
    }
   ],
   "source": [
    "#The two inputs being the input file and the scale to which the output video should be\n",
    "convert([\"C:\\\\Users\\\\ayush\\\\Desktop\\\\myVideo2.mp4\",50])"
   ]
  }
 ],
 "metadata": {
  "kernelspec": {
   "display_name": "Python 3",
   "language": "python",
   "name": "python3"
  },
  "language_info": {
   "codemirror_mode": {
    "name": "ipython",
    "version": 3
   },
   "file_extension": ".py",
   "mimetype": "text/x-python",
   "name": "python",
   "nbconvert_exporter": "python",
   "pygments_lexer": "ipython3",
   "version": "3.7.6"
  }
 },
 "nbformat": 4,
 "nbformat_minor": 4
}
